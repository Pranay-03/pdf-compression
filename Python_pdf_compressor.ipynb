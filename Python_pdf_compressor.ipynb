{
  "nbformat": 4,
  "nbformat_minor": 0,
  "metadata": {
    "colab": {
      "provenance": []
    },
    "kernelspec": {
      "name": "python3",
      "display_name": "Python 3"
    },
    "language_info": {
      "name": "python"
    }
  },
  "cells": [
    {
      "cell_type": "code",
      "execution_count": null,
      "metadata": {
        "colab": {
          "base_uri": "https://localhost:8080/"
        },
        "id": "KJZfLxDeNGbU",
        "outputId": "361419c2-f32c-4e9c-a438-53fef2fbc822"
      },
      "outputs": [
        {
          "output_type": "stream",
          "name": "stdout",
          "text": [
            "Collecting PDFNetPython3==8.1.0\n",
            "  Downloading PDFNetPython3-8.1.0-cp37-cp37m-manylinux2014_x86_64.whl (33.6 MB)\n",
            "\u001b[K     |████████████████████████████████| 33.6 MB 259 kB/s \n",
            "\u001b[?25hInstalling collected packages: PDFNetPython3\n",
            "Successfully installed PDFNetPython3-8.1.0\n"
          ]
        }
      ],
      "source": [
        "!pip install PDFNetPython3==8.1.0\n"
      ]
    },
    {
      "cell_type": "code",
      "source": [
        "import os\n",
        "import sys\n",
        "from PDFNetPython3.PDFNetPython import PDFDoc, Optimizer, SDFDoc, PDFNet"
      ],
      "metadata": {
        "id": "QTVIej0ONc9n"
      },
      "execution_count": null,
      "outputs": []
    },
    {
      "cell_type": "code",
      "source": [
        "def get_size_format(b, factor=1024, suffix=\"B\"):\n",
        "    \"\"\"\n",
        "    Scale bytes to its proper byte format\n",
        "    e.g:\n",
        "        1253656 => '1.20MB'\n",
        "        1253656678 => '1.17GB'\n",
        "    \"\"\"\n",
        "    for unit in [\"\", \"K\", \"M\", \"G\", \"T\", \"P\", \"E\", \"Z\"]:\n",
        "        if b < factor:\n",
        "            return f\"{b:.2f}{unit}{suffix}\"\n",
        "        b /= factor\n",
        "    return f\"{b:.2f}Y{suffix}\""
      ],
      "metadata": {
        "id": "V5Mr3kAQNeYg"
      },
      "execution_count": null,
      "outputs": []
    },
    {
      "cell_type": "code",
      "source": [
        "def compress_file(input_file: str, output_file: str):\n",
        "    \"\"\"Compress PDF file\"\"\"\n",
        "    if not output_file:\n",
        "        output_file = input_file\n",
        "    initial_size = os.path.getsize(input_file)\n",
        "    try:\n",
        "        # Initialize the library\n",
        "        PDFNet.Initialize()\n",
        "        doc = PDFDoc(input_file)\n",
        "        # Optimize PDF with the default settings\n",
        "        doc.InitSecurityHandler()\n",
        "        # Reduce PDF size by removing redundant information and compressing data streams\n",
        "        Optimizer.Optimize(doc)\n",
        "        doc.Save(output_file, SDFDoc.e_linearized)\n",
        "        doc.Close()\n",
        "    except Exception as e:\n",
        "        print(\"Error compress_file=\", e)\n",
        "        doc.Close()\n",
        "        return False\n",
        "    compressed_size = os.path.getsize(output_file)\n",
        "    ratio = 1 - (compressed_size / initial_size)\n",
        "    summary = {\n",
        "        \"Input File\": input_file, \"Initial Size\": get_size_format(initial_size),\n",
        "        \"Output File\": output_file, f\"Compressed Size\": get_size_format(compressed_size),\n",
        "        \"Compression Ratio\": \"{0:.3%}.\".format(ratio)\n",
        "    }\n",
        "    # Printing Summary\n",
        "    print(\"## Summary ########################################################\")\n",
        "    print(\"\\n\".join(\"{}:{}\".format(i, j) for i, j in summary.items()))\n",
        "    print(\"###################################################################\")\n",
        "    return True"
      ],
      "metadata": {
        "id": "6iUZGxOLNgy5"
      },
      "execution_count": null,
      "outputs": []
    },
    {
      "cell_type": "code",
      "source": [
        "if __name__ == \"__main__\":\n",
        "    # Parsing command line arguments entered by user\n",
        "    # input_file = sys.argv[1]\n",
        "    input_file = 'big_data.pdf'\n",
        "    output_file = sys.argv[2]\n",
        "    compress_file(input_file, output_file)"
      ],
      "metadata": {
        "colab": {
          "base_uri": "https://localhost:8080/"
        },
        "id": "xJ9vjkpvNoQz",
        "outputId": "1121260d-3fac-4c73-f4bf-773990b3deb3"
      },
      "execution_count": null,
      "outputs": [
        {
          "output_type": "stream",
          "name": "stdout",
          "text": [
            "## Summary ########################################################\n",
            "Input File:recent_I-20_STEM_OPT.pdf\n",
            "Initial Size:5.43MB\n",
            "Output File:/root/.local/share/jupyter/runtime/kernel-c5176f66-dec7-4d9c-b362-9d82a4103d0a.json\n",
            "Compressed Size:361.24KB\n",
            "Compression Ratio:93.508%.\n",
            "###################################################################\n"
          ]
        }
      ]
    }
  ]
}