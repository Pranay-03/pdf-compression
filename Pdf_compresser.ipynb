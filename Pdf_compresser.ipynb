{
  "nbformat": 4,
  "nbformat_minor": 0,
  "metadata": {
    "colab": {
      "provenance": []
    },
    "kernelspec": {
      "name": "python3",
      "display_name": "Python 3"
    },
    "language_info": {
      "name": "python"
    }
  },
  "cells": [
    {
      "cell_type": "code",
      "source": [
        "from google.colab import drive\n",
        "drive.mount('/content/drive')\n"
      ],
      "metadata": {
        "colab": {
          "base_uri": "https://localhost:8080/"
        },
        "id": "puna7-R_mH2T",
        "outputId": "6d4c41fa-21c5-43ff-afdb-1a2773b7d627"
      },
      "execution_count": 1,
      "outputs": [
        {
          "output_type": "stream",
          "name": "stdout",
          "text": [
            "Mounted at /content/drive\n"
          ]
        }
      ]
    },
    {
      "cell_type": "code",
      "source": [
        "input_folder = '/content/drive/MyDrive/pdf_folder/'\n",
        "output_folder = '/content/drive/MyDrive/Target Folder/'\n"
      ],
      "metadata": {
        "id": "_3O72x32nT97"
      },
      "execution_count": 2,
      "outputs": []
    },
    {
      "cell_type": "code",
      "source": [
        "!pip install 'PyPDF2<3.0'\n",
        "!pip install PyMuPDF\n"
      ],
      "metadata": {
        "colab": {
          "base_uri": "https://localhost:8080/"
        },
        "id": "wyWoR13v17rM",
        "outputId": "c0b3c476-a99d-4817-e3c0-7707607018bc"
      },
      "execution_count": 3,
      "outputs": [
        {
          "output_type": "stream",
          "name": "stdout",
          "text": [
            "Looking in indexes: https://pypi.org/simple, https://us-python.pkg.dev/colab-wheels/public/simple/\n",
            "Collecting PyPDF2<3.0\n",
            "  Downloading pypdf2-2.12.1-py3-none-any.whl (222 kB)\n",
            "\u001b[2K     \u001b[90m━━━━━━━━━━━━━━━━━━━━━━━━━━━━━━━━━━━━━━━\u001b[0m \u001b[32m222.8/222.8 kB\u001b[0m \u001b[31m7.6 MB/s\u001b[0m eta \u001b[36m0:00:00\u001b[0m\n",
            "\u001b[?25hInstalling collected packages: PyPDF2\n",
            "Successfully installed PyPDF2-2.12.1\n",
            "Looking in indexes: https://pypi.org/simple, https://us-python.pkg.dev/colab-wheels/public/simple/\n",
            "Collecting PyMuPDF\n",
            "  Downloading PyMuPDF-1.22.3-cp310-cp310-manylinux_2_17_x86_64.manylinux2014_x86_64.whl (14.1 MB)\n",
            "\u001b[2K     \u001b[90m━━━━━━━━━━━━━━━━━━━━━━━━━━━━━━━━━━━━━━━━\u001b[0m \u001b[32m14.1/14.1 MB\u001b[0m \u001b[31m69.3 MB/s\u001b[0m eta \u001b[36m0:00:00\u001b[0m\n",
            "\u001b[?25hInstalling collected packages: PyMuPDF\n",
            "Successfully installed PyMuPDF-1.22.3\n"
          ]
        }
      ]
    },
    {
      "cell_type": "code",
      "source": [
        "!pip3 show PyPDF2"
      ],
      "metadata": {
        "colab": {
          "base_uri": "https://localhost:8080/"
        },
        "id": "i_XoDJbG2ZnA",
        "outputId": "6eeb5d5e-5e48-481b-c103-ccb168f63cf1"
      },
      "execution_count": 4,
      "outputs": [
        {
          "output_type": "stream",
          "name": "stdout",
          "text": [
            "Name: PyPDF2\n",
            "Version: 2.12.1\n",
            "Summary: A pure-python PDF library capable of splitting, merging, cropping, and transforming PDF files\n",
            "Home-page: \n",
            "Author: \n",
            "Author-email: Mathieu Fenniak <biziqe@mathieu.fenniak.net>\n",
            "License: \n",
            "Location: /usr/local/lib/python3.10/dist-packages\n",
            "Requires: \n",
            "Required-by: \n"
          ]
        }
      ]
    },
    {
      "cell_type": "code",
      "source": [],
      "metadata": {
        "id": "6hIxS8venjfN"
      },
      "execution_count": 4,
      "outputs": []
    },
    {
      "cell_type": "code",
      "source": [
        "import os\n",
        "import glob\n",
        "import fitz\n",
        "\n",
        "def get_size_format(b, factor=1024, suffix=\"B\"):\n",
        "   \n",
        "    for unit in [\"\", \"K\", \"M\", \"G\", \"T\", \"P\", \"E\", \"Z\"]:\n",
        "        if b < factor:\n",
        "            return f\"{b:.2f}{unit}{suffix}\"\n",
        "        b /= factor\n",
        "    return f\"{b:.2f}Y{suffix}\"\n",
        "\n",
        "def compress_file(input_file: str, output_file: str):\n",
        "    \"\"\"Compress PDF file\"\"\"\n",
        "    if not output_file:\n",
        "        output_file = input_file\n",
        "    initial_size = os.path.getsize(input_file)\n",
        "    try:\n",
        "        doc = fitz.open(input_file)\n",
        "        # Optimize PDF with the default settings\n",
        "        doc.save(output_file, deflate=True)\n",
        "        doc.close()\n",
        "    except Exception as e:\n",
        "        print(\"Error compress_file=\", e)\n",
        "        return False\n",
        "    compressed_size = os.path.getsize(output_file)\n",
        "    ratio = 1 - (compressed_size / initial_size)\n",
        "    summary = {\n",
        "        \"Input File\": input_file, \"Initial Size\": get_size_format(initial_size),\n",
        "        \"Output File\": output_file, f\"Compressed Size\": get_size_format(compressed_size),\n",
        "        \"Compression Ratio\": \"{0:.3%}.\".format(ratio)\n",
        "    }\n",
        "    # Printing Summary\n",
        "    print(\"## Summary ########################################################\")\n",
        "    print(\"\\n\".join(\"{}:{}\".format(i, j) for i, j in summary.items()))\n",
        "    print(\"###################################################################\\n\\n\")\n",
        "    return True\n",
        "\n",
        "if __name__ == \"__main__\":\n",
        "    # input_folder = sys.argv[1]\n",
        "    # output_folder = sys.argv[2]\n",
        "  \n",
        "    # Create output folder if it does not exist\n",
        "    if not os.path.exists(output_folder):\n",
        "        os.makedirs(output_folder)\n",
        "    # Find all PDF files in input folder\n",
        "    pdf_files = glob.glob(os.path.join(input_folder, \"*.pdf\"))\n",
        "    # Compress each PDF file and save to output folder\n",
        "    for pdf_file in pdf_files:\n",
        "        output_file = os.path.join(output_folder, os.path.basename(pdf_file))\n",
        "        compress_file(pdf_file, output_file)"
      ],
      "metadata": {
        "colab": {
          "base_uri": "https://localhost:8080/"
        },
        "id": "o74XMKGXyvbN",
        "outputId": "ef7d2b9c-1833-41c1-d3f4-68a1abf0a010"
      },
      "execution_count": 5,
      "outputs": [
        {
          "output_type": "stream",
          "name": "stdout",
          "text": [
            "## Summary ########################################################\n",
            "Input File:/content/drive/MyDrive/pdf_folder/3-1 Regular .pdf\n",
            "Initial Size:198.16KB\n",
            "Output File:/content/drive/MyDrive/Target Folder/3-1 Regular .pdf\n",
            "Compressed Size:197.20KB\n",
            "Compression Ratio:0.487%.\n",
            "###################################################################\n",
            "\n",
            "\n",
            "## Summary ########################################################\n",
            "Input File:/content/drive/MyDrive/pdf_folder/CN  ASSIGNMENT 2.pdf\n",
            "Initial Size:2.37MB\n",
            "Output File:/content/drive/MyDrive/Target Folder/CN  ASSIGNMENT 2.pdf\n",
            "Compressed Size:2.37MB\n",
            "Compression Ratio:-0.000%.\n",
            "###################################################################\n",
            "\n",
            "\n",
            "## Summary ########################################################\n",
            "Input File:/content/drive/MyDrive/pdf_folder/PCS Answers.pdf\n",
            "Initial Size:6.10MB\n",
            "Output File:/content/drive/MyDrive/Target Folder/PCS Answers.pdf\n",
            "Compressed Size:6.10MB\n",
            "Compression Ratio:0.019%.\n",
            "###################################################################\n",
            "\n",
            "\n",
            "## Summary ########################################################\n",
            "Input File:/content/drive/MyDrive/pdf_folder/NLP All units.pdf\n",
            "Initial Size:6.55MB\n",
            "Output File:/content/drive/MyDrive/Target Folder/NLP All units.pdf\n",
            "Compressed Size:6.81MB\n",
            "Compression Ratio:-3.929%.\n",
            "###################################################################\n",
            "\n",
            "\n",
            "## Summary ########################################################\n",
            "Input File:/content/drive/MyDrive/pdf_folder/image_converter_docs.pdf\n",
            "Initial Size:513.12KB\n",
            "Output File:/content/drive/MyDrive/Target Folder/image_converter_docs.pdf\n",
            "Compressed Size:512.97KB\n",
            "Compression Ratio:0.030%.\n",
            "###################################################################\n",
            "\n",
            "\n",
            "## Summary ########################################################\n",
            "Input File:/content/drive/MyDrive/pdf_folder/Placement  (3).pdf\n",
            "Initial Size:5.13MB\n",
            "Output File:/content/drive/MyDrive/Target Folder/Placement  (3).pdf\n",
            "Compressed Size:5.13MB\n",
            "Compression Ratio:0.009%.\n",
            "###################################################################\n",
            "\n",
            "\n"
          ]
        }
      ]
    },
    {
      "cell_type": "code",
      "source": [],
      "metadata": {
        "id": "ZwVGyV6X4WNn"
      },
      "execution_count": 5,
      "outputs": []
    }
  ]
}